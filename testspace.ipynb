{
 "cells": [
  {
   "cell_type": "code",
   "execution_count": null,
   "metadata": {},
   "outputs": [],
   "source": [
    "from rdkit import Chem\n",
    "from rdkit.Chem import rdDistGeom\n",
    "import py3Dmol\n",
    "\n",
    "class molec:\n",
    "    def __init__(self, smiles):\n",
    "        self.smiles = smiles\n",
    "      \n",
    "    def molecule_init(self):\n",
    "        self.molecule = Chem.MolFromSmiles(self.smiles)\n",
    "        self.molecule_h = Chem.AddHs(self.molecule)\n",
    "        Chem.rdCoordGen.AddCoords(self.molecule_h)\n",
    "        rdDistGeom.EmbedMolecule(self.molecule_h)\n",
    "\n",
    "    def conformer_gen(self):\n",
    "        \n",
    "\n",
    "    def threeD_view(self):\n",
    "        view = py3Dmol.view(data=Chem.MolToMolBlock(self.molecule_h), style={\"stick\": {}, \"sphere\": {\"scale\": 0.3}})\n",
    "        view.zoomTo()\n",
    "        return view\n",
    "    \n"
   ]
  },
  {
   "cell_type": "code",
   "execution_count": 30,
   "metadata": {},
   "outputs": [
    {
     "data": {
      "application/3dmoljs_load.v0": "<div id=\"3dmolviewer_17427494064126973\"  style=\"position: relative; width: 640px; height: 480px;\">\n        <p id=\"3dmolwarning_17427494064126973\" style=\"background-color:#ffcccc;color:black\">3Dmol.js failed to load for some reason.  Please check your browser console for error messages.<br></p>\n        </div>\n<script>\n\nvar loadScriptAsync = function(uri){\n  return new Promise((resolve, reject) => {\n    //this is to ignore the existence of requirejs amd\n    var savedexports, savedmodule;\n    if (typeof exports !== 'undefined') savedexports = exports;\n    else exports = {}\n    if (typeof module !== 'undefined') savedmodule = module;\n    else module = {}\n\n    var tag = document.createElement('script');\n    tag.src = uri;\n    tag.async = true;\n    tag.onload = () => {\n        exports = savedexports;\n        module = savedmodule;\n        resolve();\n    };\n  var firstScriptTag = document.getElementsByTagName('script')[0];\n  firstScriptTag.parentNode.insertBefore(tag, firstScriptTag);\n});\n};\n\nif(typeof $3Dmolpromise === 'undefined') {\n$3Dmolpromise = null;\n  $3Dmolpromise = loadScriptAsync('https://cdnjs.cloudflare.com/ajax/libs/3Dmol/2.4.2/3Dmol-min.js');\n}\n\nvar viewer_17427494064126973 = null;\nvar warn = document.getElementById(\"3dmolwarning_17427494064126973\");\nif(warn) {\n    warn.parentNode.removeChild(warn);\n}\n$3Dmolpromise.then(function() {\nviewer_17427494064126973 = $3Dmol.createViewer(document.getElementById(\"3dmolviewer_17427494064126973\"),{backgroundColor:\"white\"});\nviewer_17427494064126973.addModel(\"\\n     RDKit          3D\\n\\n 70 74  0  0  0  0  0  0  0  0999 V2000\\n    0.4538    1.2651    1.8428 O   0  0  0  0  0  0  0  0  0  0  0  0\\n    0.9335    1.1877    0.6854 C   0  0  0  0  0  0  0  0  0  0  0  0\\n    0.1563    1.1876   -0.4584 O   0  0  0  0  0  0  0  0  0  0  0  0\\n   -1.2279    1.2751   -0.3856 C   0  0  0  0  0  0  0  0  0  0  0  0\\n   -1.8794    2.4972   -0.3982 C   0  0  0  0  0  0  0  0  0  0  0  0\\n   -3.2584    2.5007   -0.3223 C   0  0  0  0  0  0  0  0  0  0  0  0\\n   -3.9229    3.7033   -0.3334 F   0  0  0  0  0  0  0  0  0  0  0  0\\n   -3.9629    1.3171   -0.2366 C   0  0  0  0  0  0  0  0  0  0  0  0\\n   -5.4300    1.3770   -0.1583 C   0  0  0  0  0  0  0  0  0  0  0  0\\n   -6.1053    1.4536    1.0389 C   0  0  0  0  0  0  0  0  0  0  0  0\\n   -7.4950    1.5066    1.0293 C   0  0  0  0  0  0  0  0  0  0  0  0\\n   -8.1934    1.5825    2.1880 F   0  0  0  0  0  0  0  0  0  0  0  0\\n   -8.1488    1.4805   -0.1803 C   0  0  0  0  0  0  0  0  0  0  0  0\\n   -9.6299    1.5370   -0.1910 C   0  0  0  0  0  0  0  0  0  0  0  0\\n  -10.2458    0.4852    0.4874 O   0  0  0  0  0  0  0  0  0  0  0  0\\n  -10.1353   -0.8499    0.2156 C   0  0  0  0  0  0  0  0  0  0  0  0\\n   -9.1630   -1.6414    0.7877 C   0  0  0  0  0  0  0  0  0  0  0  0\\n   -9.0370   -2.9896    0.5249 C   0  0  0  0  0  0  0  0  0  0  0  0\\n   -8.0595   -3.7223    1.1171 F   0  0  0  0  0  0  0  0  0  0  0  0\\n   -9.9151   -3.5843   -0.3460 C   0  0  0  0  0  0  0  0  0  0  0  0\\n   -9.7578   -4.9102   -0.5773 F   0  0  0  0  0  0  0  0  0  0  0  0\\n  -10.8922   -2.8192   -0.9291 C   0  0  0  0  0  0  0  0  0  0  0  0\\n  -11.7485   -3.4372   -1.7887 F   0  0  0  0  0  0  0  0  0  0  0  0\\n  -11.0155   -1.4687   -0.6635 C   0  0  0  0  0  0  0  0  0  0  0  0\\n  -10.1174    1.5710   -1.4803 F   0  0  0  0  0  0  0  0  0  0  0  0\\n  -10.0458    2.7276    0.4112 F   0  0  0  0  0  0  0  0  0  0  0  0\\n   -7.4751    1.4031   -1.3969 C   0  0  0  0  0  0  0  0  0  0  0  0\\n   -8.1884    1.3817   -2.5518 F   0  0  0  0  0  0  0  0  0  0  0  0\\n   -6.0897    1.3503   -1.3873 C   0  0  0  0  0  0  0  0  0  0  0  0\\n   -3.3248    0.0885   -0.2230 C   0  0  0  0  0  0  0  0  0  0  0  0\\n   -4.0286   -1.0546   -0.1388 F   0  0  0  0  0  0  0  0  0  0  0  0\\n   -1.9444    0.1119   -0.3000 C   0  0  0  0  0  0  0  0  0  0  0  0\\n    2.3713    1.0940    0.5417 C   0  0  0  0  0  0  0  0  0  0  0  0\\n    3.1735    1.0913    1.6568 C   0  0  0  0  0  0  0  0  0  0  0  0\\n    2.5919    1.1776    2.8793 F   0  0  0  0  0  0  0  0  0  0  0  0\\n    4.5620    1.0025    1.5587 C   0  0  0  0  0  0  0  0  0  0  0  0\\n    5.1242    0.9161    0.3008 C   0  0  0  0  0  0  0  0  0  0  0  0\\n    6.6057    0.8182    0.1222 C   0  0  0  0  0  0  0  0  0  0  0  0\\n    6.8084   -0.1846   -0.8249 O   0  0  0  0  0  0  0  0  0  0  0  0\\n    7.7521   -1.0917   -0.2899 C   0  0  0  0  0  0  0  0  0  0  0  0\\n    8.9652   -0.2660    0.0729 C   0  0  0  0  0  0  0  0  0  0  0  0\\n   10.1908   -1.1041    0.3603 C   0  0  0  0  0  0  0  0  0  0  0  0\\n   10.5886   -1.9333   -0.8152 C   0  0  0  0  0  0  0  0  0  0  0  0\\n   11.8318   -2.7244   -0.3951 C   0  0  0  0  0  0  0  0  0  0  0  0\\n    8.5658    0.5645    1.2734 C   0  0  0  0  0  0  0  0  0  0  0  0\\n    7.1649    0.5344    1.3490 O   0  0  0  0  0  0  0  0  0  0  0  0\\n    4.3509    0.9158   -0.8425 C   0  0  0  0  0  0  0  0  0  0  0  0\\n    2.9814    1.0053   -0.7009 C   0  0  0  0  0  0  0  0  0  0  0  0\\n    2.2014    1.0075   -1.7944 F   0  0  0  0  0  0  0  0  0  0  0  0\\n   -1.3163    3.4189   -0.4657 H   0  0  0  0  0  0  0  0  0  0  0  0\\n   -5.5454    1.4713    1.9672 H   0  0  0  0  0  0  0  0  0  0  0  0\\n   -8.4367   -1.2173    1.4896 H   0  0  0  0  0  0  0  0  0  0  0  0\\n  -11.7908   -0.8925   -1.1346 H   0  0  0  0  0  0  0  0  0  0  0  0\\n   -5.5484    1.2904   -2.3087 H   0  0  0  0  0  0  0  0  0  0  0  0\\n   -1.4578   -0.8679   -0.2879 H   0  0  0  0  0  0  0  0  0  0  0  0\\n    5.1789    1.0018    2.4484 H   0  0  0  0  0  0  0  0  0  0  0  0\\n    6.9875    1.7695   -0.2994 H   0  0  0  0  0  0  0  0  0  0  0  0\\n    7.2790   -1.5094    0.6188 H   0  0  0  0  0  0  0  0  0  0  0  0\\n    7.9424   -1.9238   -0.9645 H   0  0  0  0  0  0  0  0  0  0  0  0\\n    9.1682    0.4044   -0.8077 H   0  0  0  0  0  0  0  0  0  0  0  0\\n   11.0298   -0.4179    0.5828 H   0  0  0  0  0  0  0  0  0  0  0  0\\n   10.0214   -1.7084    1.2540 H   0  0  0  0  0  0  0  0  0  0  0  0\\n    9.8284   -2.6711   -1.1005 H   0  0  0  0  0  0  0  0  0  0  0  0\\n   10.7931   -1.3166   -1.6984 H   0  0  0  0  0  0  0  0  0  0  0  0\\n   12.7109   -2.0464   -0.4726 H   0  0  0  0  0  0  0  0  0  0  0  0\\n   11.9235   -3.5769   -1.0998 H   0  0  0  0  0  0  0  0  0  0  0  0\\n   11.6554   -3.0682    0.6361 H   0  0  0  0  0  0  0  0  0  0  0  0\\n    8.9171    1.6054    1.1740 H   0  0  0  0  0  0  0  0  0  0  0  0\\n    8.9368    0.0699    2.1937 H   0  0  0  0  0  0  0  0  0  0  0  0\\n    4.7876    0.8487   -1.8198 H   0  0  0  0  0  0  0  0  0  0  0  0\\n  1  2  2  0\\n  2  3  1  0\\n  3  4  1  0\\n  4  5  2  0\\n  5  6  1  0\\n  6  7  1  0\\n  6  8  2  0\\n  8  9  1  0\\n  9 10  2  0\\n 10 11  1  0\\n 11 12  1  0\\n 11 13  2  0\\n 13 14  1  0\\n 14 15  1  0\\n 15 16  1  0\\n 16 17  2  0\\n 17 18  1  0\\n 18 19  1  0\\n 18 20  2  0\\n 20 21  1  0\\n 20 22  1  0\\n 22 23  1  0\\n 22 24  2  0\\n 14 25  1  0\\n 14 26  1  0\\n 13 27  1  0\\n 27 28  1  0\\n 27 29  2  0\\n  8 30  1  0\\n 30 31  1  0\\n 30 32  2  0\\n  2 33  1  0\\n 33 34  2  0\\n 34 35  1  0\\n 34 36  1  0\\n 36 37  2  0\\n 37 38  1  0\\n 38 39  1  0\\n 39 40  1  0\\n 40 41  1  0\\n 41 42  1  0\\n 42 43  1  0\\n 43 44  1  0\\n 41 45  1  0\\n 45 46  1  0\\n 37 47  1  0\\n 47 48  2  0\\n 48 49  1  0\\n 32  4  1  0\\n 29  9  1  0\\n 24 16  1  0\\n 48 33  1  0\\n 46 38  1  0\\n  5 50  1  0\\n 10 51  1  0\\n 17 52  1  0\\n 24 53  1  0\\n 29 54  1  0\\n 32 55  1  0\\n 36 56  1  0\\n 38 57  1  0\\n 40 58  1  0\\n 40 59  1  0\\n 41 60  1  0\\n 42 61  1  0\\n 42 62  1  0\\n 43 63  1  0\\n 43 64  1  0\\n 44 65  1  0\\n 44 66  1  0\\n 44 67  1  0\\n 45 68  1  0\\n 45 69  1  0\\n 47 70  1  0\\nM  END\\n\");\nviewer_17427494064126973.setStyle({\"stick\": {}, \"sphere\": {\"scale\": 0.3}});\nviewer_17427494064126973.zoomTo();\n\tviewer_17427494064126973.zoomTo();\nviewer_17427494064126973.render();\n});\n</script>",
      "text/html": [
       "<div id=\"3dmolviewer_17427494064126973\"  style=\"position: relative; width: 640px; height: 480px;\">\n",
       "        <p id=\"3dmolwarning_17427494064126973\" style=\"background-color:#ffcccc;color:black\">3Dmol.js failed to load for some reason.  Please check your browser console for error messages.<br></p>\n",
       "        </div>\n",
       "<script>\n",
       "\n",
       "var loadScriptAsync = function(uri){\n",
       "  return new Promise((resolve, reject) => {\n",
       "    //this is to ignore the existence of requirejs amd\n",
       "    var savedexports, savedmodule;\n",
       "    if (typeof exports !== 'undefined') savedexports = exports;\n",
       "    else exports = {}\n",
       "    if (typeof module !== 'undefined') savedmodule = module;\n",
       "    else module = {}\n",
       "\n",
       "    var tag = document.createElement('script');\n",
       "    tag.src = uri;\n",
       "    tag.async = true;\n",
       "    tag.onload = () => {\n",
       "        exports = savedexports;\n",
       "        module = savedmodule;\n",
       "        resolve();\n",
       "    };\n",
       "  var firstScriptTag = document.getElementsByTagName('script')[0];\n",
       "  firstScriptTag.parentNode.insertBefore(tag, firstScriptTag);\n",
       "});\n",
       "};\n",
       "\n",
       "if(typeof $3Dmolpromise === 'undefined') {\n",
       "$3Dmolpromise = null;\n",
       "  $3Dmolpromise = loadScriptAsync('https://cdnjs.cloudflare.com/ajax/libs/3Dmol/2.4.2/3Dmol-min.js');\n",
       "}\n",
       "\n",
       "var viewer_17427494064126973 = null;\n",
       "var warn = document.getElementById(\"3dmolwarning_17427494064126973\");\n",
       "if(warn) {\n",
       "    warn.parentNode.removeChild(warn);\n",
       "}\n",
       "$3Dmolpromise.then(function() {\n",
       "viewer_17427494064126973 = $3Dmol.createViewer(document.getElementById(\"3dmolviewer_17427494064126973\"),{backgroundColor:\"white\"});\n",
       "viewer_17427494064126973.addModel(\"\\n     RDKit          3D\\n\\n 70 74  0  0  0  0  0  0  0  0999 V2000\\n    0.4538    1.2651    1.8428 O   0  0  0  0  0  0  0  0  0  0  0  0\\n    0.9335    1.1877    0.6854 C   0  0  0  0  0  0  0  0  0  0  0  0\\n    0.1563    1.1876   -0.4584 O   0  0  0  0  0  0  0  0  0  0  0  0\\n   -1.2279    1.2751   -0.3856 C   0  0  0  0  0  0  0  0  0  0  0  0\\n   -1.8794    2.4972   -0.3982 C   0  0  0  0  0  0  0  0  0  0  0  0\\n   -3.2584    2.5007   -0.3223 C   0  0  0  0  0  0  0  0  0  0  0  0\\n   -3.9229    3.7033   -0.3334 F   0  0  0  0  0  0  0  0  0  0  0  0\\n   -3.9629    1.3171   -0.2366 C   0  0  0  0  0  0  0  0  0  0  0  0\\n   -5.4300    1.3770   -0.1583 C   0  0  0  0  0  0  0  0  0  0  0  0\\n   -6.1053    1.4536    1.0389 C   0  0  0  0  0  0  0  0  0  0  0  0\\n   -7.4950    1.5066    1.0293 C   0  0  0  0  0  0  0  0  0  0  0  0\\n   -8.1934    1.5825    2.1880 F   0  0  0  0  0  0  0  0  0  0  0  0\\n   -8.1488    1.4805   -0.1803 C   0  0  0  0  0  0  0  0  0  0  0  0\\n   -9.6299    1.5370   -0.1910 C   0  0  0  0  0  0  0  0  0  0  0  0\\n  -10.2458    0.4852    0.4874 O   0  0  0  0  0  0  0  0  0  0  0  0\\n  -10.1353   -0.8499    0.2156 C   0  0  0  0  0  0  0  0  0  0  0  0\\n   -9.1630   -1.6414    0.7877 C   0  0  0  0  0  0  0  0  0  0  0  0\\n   -9.0370   -2.9896    0.5249 C   0  0  0  0  0  0  0  0  0  0  0  0\\n   -8.0595   -3.7223    1.1171 F   0  0  0  0  0  0  0  0  0  0  0  0\\n   -9.9151   -3.5843   -0.3460 C   0  0  0  0  0  0  0  0  0  0  0  0\\n   -9.7578   -4.9102   -0.5773 F   0  0  0  0  0  0  0  0  0  0  0  0\\n  -10.8922   -2.8192   -0.9291 C   0  0  0  0  0  0  0  0  0  0  0  0\\n  -11.7485   -3.4372   -1.7887 F   0  0  0  0  0  0  0  0  0  0  0  0\\n  -11.0155   -1.4687   -0.6635 C   0  0  0  0  0  0  0  0  0  0  0  0\\n  -10.1174    1.5710   -1.4803 F   0  0  0  0  0  0  0  0  0  0  0  0\\n  -10.0458    2.7276    0.4112 F   0  0  0  0  0  0  0  0  0  0  0  0\\n   -7.4751    1.4031   -1.3969 C   0  0  0  0  0  0  0  0  0  0  0  0\\n   -8.1884    1.3817   -2.5518 F   0  0  0  0  0  0  0  0  0  0  0  0\\n   -6.0897    1.3503   -1.3873 C   0  0  0  0  0  0  0  0  0  0  0  0\\n   -3.3248    0.0885   -0.2230 C   0  0  0  0  0  0  0  0  0  0  0  0\\n   -4.0286   -1.0546   -0.1388 F   0  0  0  0  0  0  0  0  0  0  0  0\\n   -1.9444    0.1119   -0.3000 C   0  0  0  0  0  0  0  0  0  0  0  0\\n    2.3713    1.0940    0.5417 C   0  0  0  0  0  0  0  0  0  0  0  0\\n    3.1735    1.0913    1.6568 C   0  0  0  0  0  0  0  0  0  0  0  0\\n    2.5919    1.1776    2.8793 F   0  0  0  0  0  0  0  0  0  0  0  0\\n    4.5620    1.0025    1.5587 C   0  0  0  0  0  0  0  0  0  0  0  0\\n    5.1242    0.9161    0.3008 C   0  0  0  0  0  0  0  0  0  0  0  0\\n    6.6057    0.8182    0.1222 C   0  0  0  0  0  0  0  0  0  0  0  0\\n    6.8084   -0.1846   -0.8249 O   0  0  0  0  0  0  0  0  0  0  0  0\\n    7.7521   -1.0917   -0.2899 C   0  0  0  0  0  0  0  0  0  0  0  0\\n    8.9652   -0.2660    0.0729 C   0  0  0  0  0  0  0  0  0  0  0  0\\n   10.1908   -1.1041    0.3603 C   0  0  0  0  0  0  0  0  0  0  0  0\\n   10.5886   -1.9333   -0.8152 C   0  0  0  0  0  0  0  0  0  0  0  0\\n   11.8318   -2.7244   -0.3951 C   0  0  0  0  0  0  0  0  0  0  0  0\\n    8.5658    0.5645    1.2734 C   0  0  0  0  0  0  0  0  0  0  0  0\\n    7.1649    0.5344    1.3490 O   0  0  0  0  0  0  0  0  0  0  0  0\\n    4.3509    0.9158   -0.8425 C   0  0  0  0  0  0  0  0  0  0  0  0\\n    2.9814    1.0053   -0.7009 C   0  0  0  0  0  0  0  0  0  0  0  0\\n    2.2014    1.0075   -1.7944 F   0  0  0  0  0  0  0  0  0  0  0  0\\n   -1.3163    3.4189   -0.4657 H   0  0  0  0  0  0  0  0  0  0  0  0\\n   -5.5454    1.4713    1.9672 H   0  0  0  0  0  0  0  0  0  0  0  0\\n   -8.4367   -1.2173    1.4896 H   0  0  0  0  0  0  0  0  0  0  0  0\\n  -11.7908   -0.8925   -1.1346 H   0  0  0  0  0  0  0  0  0  0  0  0\\n   -5.5484    1.2904   -2.3087 H   0  0  0  0  0  0  0  0  0  0  0  0\\n   -1.4578   -0.8679   -0.2879 H   0  0  0  0  0  0  0  0  0  0  0  0\\n    5.1789    1.0018    2.4484 H   0  0  0  0  0  0  0  0  0  0  0  0\\n    6.9875    1.7695   -0.2994 H   0  0  0  0  0  0  0  0  0  0  0  0\\n    7.2790   -1.5094    0.6188 H   0  0  0  0  0  0  0  0  0  0  0  0\\n    7.9424   -1.9238   -0.9645 H   0  0  0  0  0  0  0  0  0  0  0  0\\n    9.1682    0.4044   -0.8077 H   0  0  0  0  0  0  0  0  0  0  0  0\\n   11.0298   -0.4179    0.5828 H   0  0  0  0  0  0  0  0  0  0  0  0\\n   10.0214   -1.7084    1.2540 H   0  0  0  0  0  0  0  0  0  0  0  0\\n    9.8284   -2.6711   -1.1005 H   0  0  0  0  0  0  0  0  0  0  0  0\\n   10.7931   -1.3166   -1.6984 H   0  0  0  0  0  0  0  0  0  0  0  0\\n   12.7109   -2.0464   -0.4726 H   0  0  0  0  0  0  0  0  0  0  0  0\\n   11.9235   -3.5769   -1.0998 H   0  0  0  0  0  0  0  0  0  0  0  0\\n   11.6554   -3.0682    0.6361 H   0  0  0  0  0  0  0  0  0  0  0  0\\n    8.9171    1.6054    1.1740 H   0  0  0  0  0  0  0  0  0  0  0  0\\n    8.9368    0.0699    2.1937 H   0  0  0  0  0  0  0  0  0  0  0  0\\n    4.7876    0.8487   -1.8198 H   0  0  0  0  0  0  0  0  0  0  0  0\\n  1  2  2  0\\n  2  3  1  0\\n  3  4  1  0\\n  4  5  2  0\\n  5  6  1  0\\n  6  7  1  0\\n  6  8  2  0\\n  8  9  1  0\\n  9 10  2  0\\n 10 11  1  0\\n 11 12  1  0\\n 11 13  2  0\\n 13 14  1  0\\n 14 15  1  0\\n 15 16  1  0\\n 16 17  2  0\\n 17 18  1  0\\n 18 19  1  0\\n 18 20  2  0\\n 20 21  1  0\\n 20 22  1  0\\n 22 23  1  0\\n 22 24  2  0\\n 14 25  1  0\\n 14 26  1  0\\n 13 27  1  0\\n 27 28  1  0\\n 27 29  2  0\\n  8 30  1  0\\n 30 31  1  0\\n 30 32  2  0\\n  2 33  1  0\\n 33 34  2  0\\n 34 35  1  0\\n 34 36  1  0\\n 36 37  2  0\\n 37 38  1  0\\n 38 39  1  0\\n 39 40  1  0\\n 40 41  1  0\\n 41 42  1  0\\n 42 43  1  0\\n 43 44  1  0\\n 41 45  1  0\\n 45 46  1  0\\n 37 47  1  0\\n 47 48  2  0\\n 48 49  1  0\\n 32  4  1  0\\n 29  9  1  0\\n 24 16  1  0\\n 48 33  1  0\\n 46 38  1  0\\n  5 50  1  0\\n 10 51  1  0\\n 17 52  1  0\\n 24 53  1  0\\n 29 54  1  0\\n 32 55  1  0\\n 36 56  1  0\\n 38 57  1  0\\n 40 58  1  0\\n 40 59  1  0\\n 41 60  1  0\\n 42 61  1  0\\n 42 62  1  0\\n 43 63  1  0\\n 43 64  1  0\\n 44 65  1  0\\n 44 66  1  0\\n 44 67  1  0\\n 45 68  1  0\\n 45 69  1  0\\n 47 70  1  0\\nM  END\\n\");\n",
       "viewer_17427494064126973.setStyle({\"stick\": {}, \"sphere\": {\"scale\": 0.3}});\n",
       "viewer_17427494064126973.zoomTo();\n",
       "\tviewer_17427494064126973.zoomTo();\n",
       "viewer_17427494064126973.render();\n",
       "});\n",
       "</script>"
      ]
     },
     "metadata": {},
     "output_type": "display_data"
    },
    {
     "data": {
      "text/plain": [
       "<py3Dmol.view at 0x219d79cff50>"
      ]
     },
     "execution_count": 30,
     "metadata": {},
     "output_type": "execute_result"
    }
   ],
   "source": [
    "#from molecules import molec\n",
    "\n",
    "mol = molec(\"O=C(OC1=CC(F)=C(C2=CC(F)=C(C(OC3=CC(F)=C(F)C(F)=C3)(F)F)C(F)=C2)C(F)=C1)C4=C(F)C=C(C5OCC(CCC)CO5)C=C4F\")\n",
    "mol.molecule_init()\n",
    "mol.threeD_view()\n"
   ]
  },
  {
   "cell_type": "code",
   "execution_count": null,
   "metadata": {},
   "outputs": [],
   "source": [
    "from rdkit import Chem\n",
    "from rdkit.Chem import rdCoordGen\n",
    "#from rdkit.Chem.Draw import IPythonConsole\n",
    "#IPythonConsole.ipython_useSVG=True  # Use higher quality images for molecules\n",
    "\n",
    "caffeine = Chem.MolFromSmiles(\"CN1C=NC2=C1C(=O)N(C(=O)N2C)C\")\n",
    "rdCoordGen.AddCoords(caffeine)\n",
    "print(caffeine)\n",
    "#caffeine"
   ]
  },
  {
   "cell_type": "code",
   "execution_count": null,
   "metadata": {},
   "outputs": [],
   "source": [
    "from rdkit import Chem\n",
    "from rdkit.Chem import (\n",
    "    AllChem,\n",
    "    rdCoordGen,\n",
    ")\n",
    "from rdkit.Chem.Draw import IPythonConsole\n",
    "IPythonConsole.ipython_useSVG=True  # Use higher quality images for molecules\n",
    "\n",
    "\n",
    "def molecule_to_3d(molecule):\n",
    "    mol = Chem.Mol(molecule)\n",
    "    mol = AllChem.AddHs(mol, addCoords=True)\n",
    "    AllChem.EmbedMolecule(mol)\n",
    "    AllChem.MMFFOptimizeMolecule(mol)\n",
    "    return mol"
   ]
  },
  {
   "cell_type": "code",
   "execution_count": null,
   "metadata": {},
   "outputs": [],
   "source": [
    "from rdkit.Chem.Draw import MolToImage\n",
    "\n",
    "\n",
    "m = Chem.MolFromSmiles(\"C/C(O)=C(C)/O\")\n",
    "#rdCoordGen.AddCoords(m)\n",
    "m_3d = molecule_to_3d(m)\n",
    "\n",
    "view = py3Dmol.view(\n",
    "    data=Chem.MolToMolBlock(m_3d),  # Convert the RDKit molecule for py3Dmol\n",
    "    style={\"stick\": {}, \"sphere\": {\"scale\": 0.3}}\n",
    ")\n",
    "view.zoomTo()\n",
    "\n",
    "\n"
   ]
  }
 ],
 "metadata": {
  "kernelspec": {
   "display_name": "confor.venv",
   "language": "python",
   "name": "python3"
  },
  "language_info": {
   "codemirror_mode": {
    "name": "ipython",
    "version": 3
   },
   "file_extension": ".py",
   "mimetype": "text/x-python",
   "name": "python",
   "nbconvert_exporter": "python",
   "pygments_lexer": "ipython3",
   "version": "3.13.1"
  }
 },
 "nbformat": 4,
 "nbformat_minor": 2
}
