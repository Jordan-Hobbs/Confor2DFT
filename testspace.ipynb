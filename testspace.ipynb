{
 "cells": [
  {
   "cell_type": "code",
   "execution_count": null,
   "metadata": {},
   "outputs": [],
   "source": [
    "from rdkit import Chem\n",
    "from rdkit.Chem import rdDistGeom, rdForceFieldHelpers, Draw\n",
    "import py3Dmol\n",
    "\n",
    "class molec:\n",
    "    def __init__(self, smiles):\n",
    "        self.smiles = smiles\n",
    "      \n",
    "    def molecule_init(self):\n",
    "        self.molecule = Chem.MolFromSmiles(self.smiles)\n",
    "        self.molecule_h = Chem.AddHs(self.molecule)\n",
    "        Chem.rdCoordGen.AddCoords(self.molecule_h)\n",
    "        rdDistGeom.EmbedMolecule(self.molecule_h)\n",
    "        rdForceFieldHelpers.MMFFOptimizeMolecule(self.molecule_h, maxIters=1000, ignoreInterfragInteractions=False)\n",
    "\n",
    "    def conformer_gen(self):\n",
    "        rdDistGeom.EmbedMultipleConfs(self.molecule_h, 10, params=rdDistGeom.ETKDGv3())\n",
    "        self.conf_energy = rdForceFieldHelpers.MMFFOptimizeMoleculeConfs(self.molecule_h, maxIters=1000, ignoreInterfragInteractions=False)\n",
    "        if all(conf_set[0] == 0 for conf_set in self.conf_energy):\n",
    "            print(\"All conformers converged\")\n",
    "        else:\n",
    "            print(\"Not all conformers converged\")\n",
    "\n",
    "    def find_min_confromer(self):\n",
    "        min_energy_MMFF = 10000\n",
    "        for index, energy in enumerate(self.conf_energy):\n",
    "            if min_energy_MMFF > energy[1]:\n",
    "                min_energy_MMFF = energy[1]\n",
    "                min_energy_index_MMFF = index\n",
    "        self.mol_min = Chem.Mol(self.molecule_h, False, min_energy_index_MMFF)\n",
    "        Draw.MolToImage(self.mol_min) # This doesnt work\n",
    "\n",
    "\n",
    "    \n",
    "    def return_RD_molecule(self):\n",
    "        return self.molecule_h\n",
    "\n",
    "    def threeD_view(self, id=0):\n",
    "        view = py3Dmol.view(data=Chem.MolToMolBlock(self.molecule_h, confId=id), style={\"stick\": {}, \"sphere\": {\"scale\": 0.3}})\n",
    "        view.zoomTo()\n",
    "        return view"
   ]
  },
  {
   "cell_type": "code",
   "execution_count": null,
   "metadata": {},
   "outputs": [],
   "source": [
    "#from molecules import molec\n",
    "\n",
    "mol = molec(\"O=C(OC1=CC(F)=C(C2=CC(F)=C(C(OC3=CC(F)=C(F)C(F)=C3)(F)F)C(F)=C2)C(F)=C1)C4=C(F)C=C(C5OCC(CCC)CO5)C=C4F\")\n",
    "mol.molecule_init()\n",
    "mol.conformer_gen()\n",
    "mol.find_min_confromer()\n"
   ]
  }
 ],
 "metadata": {
  "kernelspec": {
   "display_name": "confor.venv",
   "language": "python",
   "name": "python3"
  },
  "language_info": {
   "codemirror_mode": {
    "name": "ipython",
    "version": 3
   },
   "file_extension": ".py",
   "mimetype": "text/x-python",
   "name": "python",
   "nbconvert_exporter": "python",
   "pygments_lexer": "ipython3",
   "version": "3.13.1"
  }
 },
 "nbformat": 4,
 "nbformat_minor": 2
}
